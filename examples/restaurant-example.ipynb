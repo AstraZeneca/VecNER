{
 "cells": [
  {
   "cell_type": "markdown",
   "id": "7d627c8d",
   "metadata": {},
   "source": [
    "### Using a w2vec model, trained on general corpora, with vecner"
   ]
  },
  {
   "cell_type": "code",
   "execution_count": 1,
   "id": "8d0a8f11",
   "metadata": {},
   "outputs": [
    {
     "data": {
      "text/plain": [
       "dict_keys(['corpora', 'models'])"
      ]
     },
     "execution_count": 1,
     "metadata": {},
     "output_type": "execute_result"
    }
   ],
   "source": [
    "from vecner import ExactMatcher, ExtendedMatcher\n",
    "import gensim.downloader as api\n",
    "\n",
    "api.info().keys()"
   ]
  },
  {
   "cell_type": "code",
   "execution_count": 2,
   "id": "393b3633",
   "metadata": {},
   "outputs": [
    {
     "data": {
      "text/plain": [
       "[('foods', 0.7469059824943542),\n",
       " ('supplies', 0.7264691591262817),\n",
       " ('products', 0.7225049138069153),\n",
       " ('meat', 0.7138239145278931),\n",
       " ('supply', 0.6732637882232666),\n",
       " ('feed', 0.670415461063385),\n",
       " ('medicines', 0.6687098145484924),\n",
       " ('meals', 0.6630423069000244),\n",
       " ('coffee', 0.6627735495567322),\n",
       " ('goods', 0.6610530614852905)]"
      ]
     },
     "execution_count": 2,
     "metadata": {},
     "output_type": "execute_result"
    }
   ],
   "source": [
    "# loads the pretrained on general corpora model\n",
    "model = api.load(\"glove-wiki-gigaword-100\")\n",
    "\n",
    "# sense check and test\n",
    "model.most_similar('food')"
   ]
  },
  {
   "cell_type": "code",
   "execution_count": 3,
   "id": "18877bf6",
   "metadata": {},
   "outputs": [
    {
     "name": "stdout",
     "output_type": "stream",
     "text": [
      "\n",
      "The burger had absolutely no flavor, \n",
      "the place itself was totally dirty, \n",
      "the burger was overcooked and the staff incredibly rude.\n",
      "\n"
     ]
    }
   ],
   "source": [
    "text = \"\"\"\n",
    "The burger had absolutely no flavor, \n",
    "the place itself was totally dirty, \n",
    "the burger was overcooked and the staff incredibly rude.\n",
    "\"\"\"\n",
    "\n",
    "print(text)"
   ]
  },
  {
   "cell_type": "code",
   "execution_count": 4,
   "id": "7a93a014",
   "metadata": {},
   "outputs": [],
   "source": [
    "# custom defined lexicon\n",
    "food_lexicon = {\n",
    "    'service' : [\n",
    "        'rude',\n",
    "        'service',\n",
    "        'friendly'\n",
    "    ],\n",
    "    'general' : [\n",
    "        'clean',\n",
    "        'dirty',\n",
    "        'decoration',\n",
    "        'atmosphere'\n",
    "    ],\n",
    "    'food' : [\n",
    "        'warm',\n",
    "        'cold',\n",
    "        'flavor',\n",
    "        'tasty',\n",
    "        'stale',\n",
    "        'disgusting',\n",
    "        'delicious'\n",
    "    ]\n",
    "}\n",
    "\n",
    "# init the exact matcher to not miss\n",
    "# any entities from the lexicon if in text\n",
    "matcher = ExactMatcher(\n",
    "    food_lexicon,\n",
    "    spacy_model     = 'en_core_web_sm'\n",
    ")\n",
    "\n",
    "# init the Extended Matcher, which expands the lexicon\n",
    "# using the w2vec model based on similar terms\n",
    "# and then matches them in the sequence\n",
    "extendedmatcher = ExtendedMatcher(\n",
    "    food_lexicon,\n",
    "    w2vec_model     = model,\n",
    "    in_pipeline     = True,\n",
    "    spacy_model     = 'en_core_web_sm',\n",
    "    chunking_method = 'edge_chunking',\n",
    "    sensitivity     = 20\n",
    ")"
   ]
  },
  {
   "cell_type": "code",
   "execution_count": 5,
   "id": "467f6015",
   "metadata": {},
   "outputs": [],
   "source": [
    "# exact mapping\n",
    "output = matcher.map(\n",
    "    text = text\n",
    ")\n",
    "\n",
    "# extended matching mapping\n",
    "output = extendedmatcher.map(\n",
    "    document = output['doc'],\n",
    "    ents = output['ents'],\n",
    "    ids = output['ids']\n",
    ")"
   ]
  },
  {
   "cell_type": "code",
   "execution_count": 6,
   "id": "5c79b59b",
   "metadata": {},
   "outputs": [
    {
     "data": {
      "text/html": [
       "<span class=\"tex2jax_ignore\"><div class=\"entities\" style=\"line-height: 2.5; direction: ltr\">The burger had \n",
       "<mark class=\"entity\" style=\"background: #ddd; padding: 0.45em 0.6em; margin: 0 0.25em; line-height: 1; border-radius: 0.35em;\">\n",
       "    absolutely no flavor\n",
       "    <span style=\"font-size: 0.8em; font-weight: bold; line-height: 1; border-radius: 0.35em; vertical-align: middle; margin-left: 0.5rem\">food</span>\n",
       "</mark>\n",
       " , the place itself was \n",
       "<mark class=\"entity\" style=\"background: #ddd; padding: 0.45em 0.6em; margin: 0 0.25em; line-height: 1; border-radius: 0.35em;\">\n",
       "    totally dirty\n",
       "    <span style=\"font-size: 0.8em; font-weight: bold; line-height: 1; border-radius: 0.35em; vertical-align: middle; margin-left: 0.5rem\">general</span>\n",
       "</mark>\n",
       " , the burger \n",
       "<mark class=\"entity\" style=\"background: #ddd; padding: 0.45em 0.6em; margin: 0 0.25em; line-height: 1; border-radius: 0.35em;\">\n",
       "    was overcooked\n",
       "    <span style=\"font-size: 0.8em; font-weight: bold; line-height: 1; border-radius: 0.35em; vertical-align: middle; margin-left: 0.5rem\">food</span>\n",
       "</mark>\n",
       " and \n",
       "<mark class=\"entity\" style=\"background: #ddd; padding: 0.45em 0.6em; margin: 0 0.25em; line-height: 1; border-radius: 0.35em;\">\n",
       "    the staff incredibly rude\n",
       "    <span style=\"font-size: 0.8em; font-weight: bold; line-height: 1; border-radius: 0.35em; vertical-align: middle; margin-left: 0.5rem\">service</span>\n",
       "</mark>\n",
       " .</div></span>"
      ],
      "text/plain": [
       "<IPython.core.display.HTML object>"
      ]
     },
     "metadata": {},
     "output_type": "display_data"
    }
   ],
   "source": [
    "from spacy import displacy\n",
    "\n",
    "example = {\n",
    "    'text' : output['doc'].text,\n",
    "    'ents' : output['ents']\n",
    "}\n",
    "\n",
    "displacy.render(\n",
    "    example,\n",
    "    style = 'ent',\n",
    "    manual = True\n",
    ")"
   ]
  }
 ],
 "metadata": {
  "kernelspec": {
   "display_name": "Python 3.8.9 ('.venv_lexical_tagger': venv)",
   "language": "python",
   "name": "python3"
  },
  "language_info": {
   "codemirror_mode": {
    "name": "ipython",
    "version": 3
   },
   "file_extension": ".py",
   "mimetype": "text/x-python",
   "name": "python",
   "nbconvert_exporter": "python",
   "pygments_lexer": "ipython3",
   "version": "3.8.9"
  },
  "vscode": {
   "interpreter": {
    "hash": "d12c4d387c249ee12e2c9343d6131026b234c575f35461ec1f669a40f48837d3"
   }
  }
 },
 "nbformat": 4,
 "nbformat_minor": 5
}
