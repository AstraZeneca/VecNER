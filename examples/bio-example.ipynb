{
 "cells": [
  {
   "cell_type": "markdown",
   "id": "b42ec44c",
   "metadata": {},
   "source": [
    "### Using a custom trained w2vec model with vecner"
   ]
  },
  {
   "cell_type": "code",
   "execution_count": 1,
   "id": "22db5734",
   "metadata": {},
   "outputs": [
    {
     "data": {
      "text/plain": [
       "([('mpfs', 0.7197115421295166),\n",
       "  ('pfs/os', 0.6994421482086182),\n",
       "  ('dor', 0.6904733180999756),\n",
       "  ('os', 0.6577452421188354),\n",
       "  ('survival', 0.6368557810783386),\n",
       "  ('rpfs', 0.6007528305053711),\n",
       "  ('idfs', 0.5724086761474609),\n",
       "  ('pfs2', 0.5723546147346497),\n",
       "  ('km', 0.5712378621101379),\n",
       "  ('orr', 0.5679236054420471)],\n",
       " gensim.models.keyedvectors.KeyedVectors)"
      ]
     },
     "execution_count": 1,
     "metadata": {},
     "output_type": "execute_result"
    }
   ],
   "source": [
    "from vecner import ExactMatcher, ThresholdMatcher\n",
    "from gensim.models import KeyedVectors\n",
    "\n",
    "# loads the pre-trained Gensim model\n",
    "model = KeyedVectors.load('../models/custom-w2vec.model')\n",
    "\n",
    "# check that model was loaded properly\n",
    "model.most_similar('pfs'), type(model)"
   ]
  },
  {
   "cell_type": "code",
   "execution_count": 2,
   "id": "90d612f7",
   "metadata": {},
   "outputs": [
    {
     "name": "stdout",
     "output_type": "stream",
     "text": [
      "\n",
      "I am really amazed by the overall survival, \n",
      "however still concerned with 3-year treatment duration. \n",
      "Would be interesting to see the predictive biomarkers in NSCLC advanced patients.\n",
      "\n"
     ]
    }
   ],
   "source": [
    "text = \"\"\"\n",
    "I am really amazed by the overall survival, \n",
    "however still concerned with 3-year treatment duration. \n",
    "Would be interesting to see the predictive biomarkers in NSCLC advanced patients.\n",
    "\"\"\"\n",
    "\n",
    "print(text)"
   ]
  },
  {
   "cell_type": "code",
   "execution_count": 3,
   "id": "e5b19837",
   "metadata": {},
   "outputs": [],
   "source": [
    "# custom defined lexicon\n",
    "bio_lexicon = {\n",
    "    'efficacy' : [\n",
    "        'overall survival',\n",
    "        'pfs'\n",
    "    ],\n",
    "    'diagnostics' : [\n",
    "        'marker'\n",
    "    ],\n",
    "    'time' : [\n",
    "        'year',\n",
    "        'month'\n",
    "    ],\n",
    "    'patient groups' : [\n",
    "        'squamous',\n",
    "        'resectable'\n",
    "    ]\n",
    "\n",
    "}\n",
    "\n",
    "# init the Exact Matcher for finding entities\n",
    "# as exactly mentioned in the lexicon\n",
    "matcher = ExactMatcher(\n",
    "  bio_lexicon,\n",
    "  spacy_model='en_core_web_sm'\n",
    ")\n",
    "\n",
    "# init the ThresholdMatcher which finds entities\n",
    "# based on a cosine similarity threshold\n",
    "thresholdmatcher = ThresholdMatcher(\n",
    "    bio_lexicon,\n",
    "    w2vec_model=model,\n",
    "    in_pipeline=True,\n",
    "    spacy_model='en_core_web_sm',\n",
    "    chunking_method='noun_chunking',\n",
    "    threshold = 0.55\n",
    ")"
   ]
  },
  {
   "cell_type": "code",
   "execution_count": 4,
   "id": "766e881b",
   "metadata": {},
   "outputs": [],
   "source": [
    "# map exact entities\n",
    "output = matcher.map(\n",
    "    text = text\n",
    ")\n",
    "\n",
    "# use in pipeline to map inexact entities\n",
    "output = thresholdmatcher.map(\n",
    "    document = output['doc'],\n",
    "    ents = output['ents'],\n",
    "    ids = output['ids']\n",
    ")"
   ]
  },
  {
   "cell_type": "code",
   "execution_count": 5,
   "id": "2a00c137",
   "metadata": {},
   "outputs": [
    {
     "data": {
      "text/html": [
       "<span class=\"tex2jax_ignore\"><div class=\"entities\" style=\"line-height: 2.5; direction: ltr\">I am really amazed by \n",
       "<mark class=\"entity\" style=\"background: #ddd; padding: 0.45em 0.6em; margin: 0 0.25em; line-height: 1; border-radius: 0.35em;\">\n",
       "    the overall survival\n",
       "    <span style=\"font-size: 0.8em; font-weight: bold; line-height: 1; border-radius: 0.35em; vertical-align: middle; margin-left: 0.5rem\">efficacy</span>\n",
       "</mark>\n",
       " , however still concerned with \n",
       "<mark class=\"entity\" style=\"background: #bfe1d9; padding: 0.45em 0.6em; margin: 0 0.25em; line-height: 1; border-radius: 0.35em;\">\n",
       "    3-year treatment duration\n",
       "    <span style=\"font-size: 0.8em; font-weight: bold; line-height: 1; border-radius: 0.35em; vertical-align: middle; margin-left: 0.5rem\">time</span>\n",
       "</mark>\n",
       " . Would be interesting to see \n",
       "<mark class=\"entity\" style=\"background: #ddd; padding: 0.45em 0.6em; margin: 0 0.25em; line-height: 1; border-radius: 0.35em;\">\n",
       "    the predictive biomarkers\n",
       "    <span style=\"font-size: 0.8em; font-weight: bold; line-height: 1; border-radius: 0.35em; vertical-align: middle; margin-left: 0.5rem\">diagnostics</span>\n",
       "</mark>\n",
       " in \n",
       "<mark class=\"entity\" style=\"background: #ddd; padding: 0.45em 0.6em; margin: 0 0.25em; line-height: 1; border-radius: 0.35em;\">\n",
       "    NSCLC advanced patients\n",
       "    <span style=\"font-size: 0.8em; font-weight: bold; line-height: 1; border-radius: 0.35em; vertical-align: middle; margin-left: 0.5rem\">patient groups</span>\n",
       "</mark>\n",
       " .</div></span>"
      ],
      "text/plain": [
       "<IPython.core.display.HTML object>"
      ]
     },
     "metadata": {},
     "output_type": "display_data"
    }
   ],
   "source": [
    "from spacy import displacy\n",
    "\n",
    "example = {\n",
    "    'text' : output['doc'].text,\n",
    "    'ents' : output['ents']\n",
    "}\n",
    "\n",
    "html = displacy.render(\n",
    "    example, \n",
    "    style = 'ent',\n",
    "    manual = True,\n",
    "    jupyter = True\n",
    ")"
   ]
  }
 ],
 "metadata": {
  "kernelspec": {
   "display_name": "Python 3 (ipykernel)",
   "language": "python",
   "name": "python3"
  },
  "language_info": {
   "codemirror_mode": {
    "name": "ipython",
    "version": 3
   },
   "file_extension": ".py",
   "mimetype": "text/x-python",
   "name": "python",
   "nbconvert_exporter": "python",
   "pygments_lexer": "ipython3",
   "version": "3.8.9"
  }
 },
 "nbformat": 4,
 "nbformat_minor": 5
}
