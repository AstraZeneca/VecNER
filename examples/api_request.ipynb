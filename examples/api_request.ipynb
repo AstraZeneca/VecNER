{
 "cells": [
  {
   "cell_type": "code",
   "execution_count": 1,
   "id": "11b377eb",
   "metadata": {},
   "outputs": [],
   "source": [
    "import requests \n",
    "import json\n",
    "\n",
    "url = 'http://127.0.0.1:5000/'\n",
    "\n",
    "text = \"\"\"\n",
    "I am really amazed by the overall survival, \n",
    "however still concerned with 3-year treatment duration. \n",
    "Would be interesting to see the predictive biomarkers in NSCLC advanced patients.\n",
    "\"\"\"\n",
    "\n",
    "# custom defined lexicon\n",
    "bio_lexicon = {\n",
    "    'efficacy' : [\n",
    "        'overall survival',\n",
    "        'pfs'\n",
    "    ],\n",
    "    'diagnostics' : [\n",
    "        'marker'\n",
    "    ],\n",
    "    'time' : [\n",
    "        'year',\n",
    "        'month'\n",
    "    ],\n",
    "    'patient groups' : [\n",
    "        'squamous',\n",
    "        'resectable'\n",
    "    ]\n",
    "\n",
    "}\n",
    "\n",
    "\n",
    "\n",
    "data = {\n",
    "    'text' : text,\n",
    "    'lexicon' : json.dumps({\n",
    "        'data':bio_lexicon\n",
    "    })\n",
    "}\n",
    "\n",
    "\n",
    "page = requests.get(url, data = data)"
   ]
  },
  {
   "cell_type": "code",
   "execution_count": 2,
   "id": "4f05b903",
   "metadata": {},
   "outputs": [
    {
     "data": {
      "text/plain": [
       "{'doc': 'I am really amazed by the overall survival , however still concerned with 3-year treatment duration . Would be interesting to see the predictive biomarkers in NSCLC advanced patients .',\n",
       " 'ents': [{'end': 42,\n",
       "   'idx': 6,\n",
       "   'label': 'efficacy',\n",
       "   'start': 22,\n",
       "   'text': 'the overall survival'},\n",
       "  {'end': 99,\n",
       "   'idx': 15,\n",
       "   'label': 'time',\n",
       "   'start': 74,\n",
       "   'text': '3-year treatment duration'},\n",
       "  {'end': 155,\n",
       "   'idx': 26,\n",
       "   'label': 'diagnostics',\n",
       "   'start': 130,\n",
       "   'text': 'the predictive biomarkers'},\n",
       "  {'end': 182,\n",
       "   'idx': 28,\n",
       "   'label': 'patient groups',\n",
       "   'start': 159,\n",
       "   'text': 'nsclc advanced patients'}],\n",
       " 'ids': {'6': 'efficacy',\n",
       "  '15': 'time',\n",
       "  '26': 'diagnostics',\n",
       "  '28': 'patient groups'}}"
      ]
     },
     "execution_count": 2,
     "metadata": {},
     "output_type": "execute_result"
    }
   ],
   "source": [
    "page.json()"
   ]
  }
 ],
 "metadata": {
  "kernelspec": {
   "display_name": "Python 3 (ipykernel)",
   "language": "python",
   "name": "python3"
  },
  "language_info": {
   "codemirror_mode": {
    "name": "ipython",
    "version": 3
   },
   "file_extension": ".py",
   "mimetype": "text/x-python",
   "name": "python",
   "nbconvert_exporter": "python",
   "pygments_lexer": "ipython3",
   "version": "3.8.9"
  }
 },
 "nbformat": 4,
 "nbformat_minor": 5
}
